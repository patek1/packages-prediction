{
 "cells": [
  {
   "cell_type": "code",
   "execution_count": 1,
   "id": "25e382ad-1907-463d-9591-710a605263d0",
   "metadata": {},
   "outputs": [],
   "source": [
    "# import libraries\n",
    "import numpy as np\n",
    "from PIL import Image\n",
    "from xgboost import XGBRegressor\n",
    "from sklearn import preprocessing\n",
    "import pandas as pd"
   ]
  },
  {
   "cell_type": "code",
   "execution_count": 2,
   "id": "05275cc5-37fd-4b44-bb56-44fa2f131f83",
   "metadata": {},
   "outputs": [
    {
     "data": {
      "text/html": [
       "<div>\n",
       "<style scoped>\n",
       "    .dataframe tbody tr th:only-of-type {\n",
       "        vertical-align: middle;\n",
       "    }\n",
       "\n",
       "    .dataframe tbody tr th {\n",
       "        vertical-align: top;\n",
       "    }\n",
       "\n",
       "    .dataframe thead th {\n",
       "        text-align: right;\n",
       "    }\n",
       "</style>\n",
       "<table border=\"1\" class=\"dataframe\">\n",
       "  <thead>\n",
       "    <tr style=\"text-align: right;\">\n",
       "      <th></th>\n",
       "      <th>month</th>\n",
       "      <th>weekday</th>\n",
       "      <th>packages</th>\n",
       "      <th>mean_age</th>\n",
       "      <th>total_pop</th>\n",
       "      <th>distance_to_nearest_city</th>\n",
       "    </tr>\n",
       "  </thead>\n",
       "  <tbody>\n",
       "    <tr>\n",
       "      <th>0</th>\n",
       "      <td>January</td>\n",
       "      <td>DI</td>\n",
       "      <td>403</td>\n",
       "      <td>39.0</td>\n",
       "      <td>1389.0</td>\n",
       "      <td>8.133982</td>\n",
       "    </tr>\n",
       "    <tr>\n",
       "      <th>1</th>\n",
       "      <td>January</td>\n",
       "      <td>DO</td>\n",
       "      <td>359</td>\n",
       "      <td>39.0</td>\n",
       "      <td>1389.0</td>\n",
       "      <td>8.133982</td>\n",
       "    </tr>\n",
       "    <tr>\n",
       "      <th>2</th>\n",
       "      <td>January</td>\n",
       "      <td>FR</td>\n",
       "      <td>357</td>\n",
       "      <td>39.0</td>\n",
       "      <td>1389.0</td>\n",
       "      <td>8.133982</td>\n",
       "    </tr>\n",
       "    <tr>\n",
       "      <th>3</th>\n",
       "      <td>January</td>\n",
       "      <td>MI</td>\n",
       "      <td>346</td>\n",
       "      <td>39.0</td>\n",
       "      <td>1389.0</td>\n",
       "      <td>8.133982</td>\n",
       "    </tr>\n",
       "    <tr>\n",
       "      <th>4</th>\n",
       "      <td>January</td>\n",
       "      <td>MO</td>\n",
       "      <td>230</td>\n",
       "      <td>39.0</td>\n",
       "      <td>1389.0</td>\n",
       "      <td>8.133982</td>\n",
       "    </tr>\n",
       "  </tbody>\n",
       "</table>\n",
       "</div>"
      ],
      "text/plain": [
       "     month weekday  packages  mean_age  total_pop  distance_to_nearest_city\n",
       "0  January      DI       403      39.0     1389.0                  8.133982\n",
       "1  January      DO       359      39.0     1389.0                  8.133982\n",
       "2  January      FR       357      39.0     1389.0                  8.133982\n",
       "3  January      MI       346      39.0     1389.0                  8.133982\n",
       "4  January      MO       230      39.0     1389.0                  8.133982"
      ]
     },
     "execution_count": 2,
     "metadata": {},
     "output_type": "execute_result"
    }
   ],
   "source": [
    "# load the clean df, but only use the most important features\n",
    "packages = pd.read_csv(\"../data/packages_final.csv\", usecols=[\"mean_age\", \"total_pop\", \"month\", \"weekday\", \"packages\", \"distance_to_nearest_city\"])\n",
    "packages.head()"
   ]
  },
  {
   "cell_type": "code",
   "execution_count": 3,
   "id": "1aa93d60-ddad-46ce-ba75-a2d6c93b6473",
   "metadata": {},
   "outputs": [
    {
     "data": {
      "text/plain": [
       "array([[-2.0418053 , -0.54510433, -0.46911716],\n",
       "       [-2.0418053 , -0.54510433, -0.46911716],\n",
       "       [-2.0418053 , -0.54510433, -0.46911716],\n",
       "       ...,\n",
       "       [-1.24350105, -0.34205996, -0.54837119],\n",
       "       [-1.24350105, -0.34205996, -0.54837119],\n",
       "       [-1.24350105, -0.34205996, -0.54837119]])"
      ]
     },
     "execution_count": 3,
     "metadata": {},
     "output_type": "execute_result"
    }
   ],
   "source": [
    "# separate the independent (target) and dependent variables (features), \n",
    "# also drop for X month and weekday, as they can't get standardized (they have string values)\n",
    "X_data = packages.drop(columns=[\"packages\", \"month\", \"weekday\"])\n",
    "target = packages[\"packages\"]\n",
    "\n",
    "# standardisation of dependent variables\n",
    "standard = preprocessing.scale(X_data)\n",
    "standard"
   ]
  },
  {
   "cell_type": "code",
   "execution_count": 4,
   "id": "e546d9ea-fe3d-4095-b60e-ce7bac7d3d1d",
   "metadata": {},
   "outputs": [
    {
     "data": {
      "text/html": [
       "<div>\n",
       "<style scoped>\n",
       "    .dataframe tbody tr th:only-of-type {\n",
       "        vertical-align: middle;\n",
       "    }\n",
       "\n",
       "    .dataframe tbody tr th {\n",
       "        vertical-align: top;\n",
       "    }\n",
       "\n",
       "    .dataframe thead th {\n",
       "        text-align: right;\n",
       "    }\n",
       "</style>\n",
       "<table border=\"1\" class=\"dataframe\">\n",
       "  <thead>\n",
       "    <tr style=\"text-align: right;\">\n",
       "      <th></th>\n",
       "      <th>mean_age</th>\n",
       "      <th>total_pop</th>\n",
       "      <th>distance_to_nearest_city</th>\n",
       "    </tr>\n",
       "  </thead>\n",
       "  <tbody>\n",
       "    <tr>\n",
       "      <th>0</th>\n",
       "      <td>-2.041805</td>\n",
       "      <td>-0.545104</td>\n",
       "      <td>-0.469117</td>\n",
       "    </tr>\n",
       "    <tr>\n",
       "      <th>1</th>\n",
       "      <td>-2.041805</td>\n",
       "      <td>-0.545104</td>\n",
       "      <td>-0.469117</td>\n",
       "    </tr>\n",
       "    <tr>\n",
       "      <th>2</th>\n",
       "      <td>-2.041805</td>\n",
       "      <td>-0.545104</td>\n",
       "      <td>-0.469117</td>\n",
       "    </tr>\n",
       "    <tr>\n",
       "      <th>3</th>\n",
       "      <td>-2.041805</td>\n",
       "      <td>-0.545104</td>\n",
       "      <td>-0.469117</td>\n",
       "    </tr>\n",
       "    <tr>\n",
       "      <th>4</th>\n",
       "      <td>-2.041805</td>\n",
       "      <td>-0.545104</td>\n",
       "      <td>-0.469117</td>\n",
       "    </tr>\n",
       "  </tbody>\n",
       "</table>\n",
       "</div>"
      ],
      "text/plain": [
       "   mean_age  total_pop  distance_to_nearest_city\n",
       "0 -2.041805  -0.545104                 -0.469117\n",
       "1 -2.041805  -0.545104                 -0.469117\n",
       "2 -2.041805  -0.545104                 -0.469117\n",
       "3 -2.041805  -0.545104                 -0.469117\n",
       "4 -2.041805  -0.545104                 -0.469117"
      ]
     },
     "execution_count": 4,
     "metadata": {},
     "output_type": "execute_result"
    }
   ],
   "source": [
    "# We have variables that are in string format, however, in statistical models we need our dataset to only \n",
    "# include numerical values!\n",
    "\n",
    "# get all the string columns\n",
    "str_cols = [col for col in packages.columns if packages[col].dtype == \"O\"]\n",
    "\n",
    "# create the one hot encoding dummy variables\n",
    "packages = pd.get_dummies(packages, columns=str_cols)\n",
    "\n",
    "# turn the array (X_data) back into a data frame\n",
    "packages_st = pd.DataFrame(standard, columns=X_data.columns)\n",
    "packages_st.head()"
   ]
  },
  {
   "cell_type": "code",
   "execution_count": 6,
   "id": "635d7e7c-19fb-4a0d-a13a-717263848e98",
   "metadata": {},
   "outputs": [
    {
     "data": {
      "text/html": [
       "<div>\n",
       "<style scoped>\n",
       "    .dataframe tbody tr th:only-of-type {\n",
       "        vertical-align: middle;\n",
       "    }\n",
       "\n",
       "    .dataframe tbody tr th {\n",
       "        vertical-align: top;\n",
       "    }\n",
       "\n",
       "    .dataframe thead th {\n",
       "        text-align: right;\n",
       "    }\n",
       "</style>\n",
       "<table border=\"1\" class=\"dataframe\">\n",
       "  <thead>\n",
       "    <tr style=\"text-align: right;\">\n",
       "      <th></th>\n",
       "      <th>mean_age</th>\n",
       "      <th>total_pop</th>\n",
       "      <th>distance_to_nearest_city</th>\n",
       "      <th>packages</th>\n",
       "      <th>month_April</th>\n",
       "      <th>month_August</th>\n",
       "      <th>month_December</th>\n",
       "      <th>month_February</th>\n",
       "      <th>month_January</th>\n",
       "      <th>month_July</th>\n",
       "      <th>...</th>\n",
       "      <th>month_November</th>\n",
       "      <th>month_October</th>\n",
       "      <th>month_September</th>\n",
       "      <th>weekday_DI</th>\n",
       "      <th>weekday_DO</th>\n",
       "      <th>weekday_FR</th>\n",
       "      <th>weekday_MI</th>\n",
       "      <th>weekday_MO</th>\n",
       "      <th>weekday_SA</th>\n",
       "      <th>weekday_SO</th>\n",
       "    </tr>\n",
       "  </thead>\n",
       "  <tbody>\n",
       "    <tr>\n",
       "      <th>0</th>\n",
       "      <td>-2.041805</td>\n",
       "      <td>-0.545104</td>\n",
       "      <td>-0.469117</td>\n",
       "      <td>403</td>\n",
       "      <td>0</td>\n",
       "      <td>0</td>\n",
       "      <td>0</td>\n",
       "      <td>0</td>\n",
       "      <td>1</td>\n",
       "      <td>0</td>\n",
       "      <td>...</td>\n",
       "      <td>0</td>\n",
       "      <td>0</td>\n",
       "      <td>0</td>\n",
       "      <td>1</td>\n",
       "      <td>0</td>\n",
       "      <td>0</td>\n",
       "      <td>0</td>\n",
       "      <td>0</td>\n",
       "      <td>0</td>\n",
       "      <td>0</td>\n",
       "    </tr>\n",
       "    <tr>\n",
       "      <th>1</th>\n",
       "      <td>-2.041805</td>\n",
       "      <td>-0.545104</td>\n",
       "      <td>-0.469117</td>\n",
       "      <td>359</td>\n",
       "      <td>0</td>\n",
       "      <td>0</td>\n",
       "      <td>0</td>\n",
       "      <td>0</td>\n",
       "      <td>1</td>\n",
       "      <td>0</td>\n",
       "      <td>...</td>\n",
       "      <td>0</td>\n",
       "      <td>0</td>\n",
       "      <td>0</td>\n",
       "      <td>0</td>\n",
       "      <td>1</td>\n",
       "      <td>0</td>\n",
       "      <td>0</td>\n",
       "      <td>0</td>\n",
       "      <td>0</td>\n",
       "      <td>0</td>\n",
       "    </tr>\n",
       "    <tr>\n",
       "      <th>2</th>\n",
       "      <td>-2.041805</td>\n",
       "      <td>-0.545104</td>\n",
       "      <td>-0.469117</td>\n",
       "      <td>357</td>\n",
       "      <td>0</td>\n",
       "      <td>0</td>\n",
       "      <td>0</td>\n",
       "      <td>0</td>\n",
       "      <td>1</td>\n",
       "      <td>0</td>\n",
       "      <td>...</td>\n",
       "      <td>0</td>\n",
       "      <td>0</td>\n",
       "      <td>0</td>\n",
       "      <td>0</td>\n",
       "      <td>0</td>\n",
       "      <td>1</td>\n",
       "      <td>0</td>\n",
       "      <td>0</td>\n",
       "      <td>0</td>\n",
       "      <td>0</td>\n",
       "    </tr>\n",
       "    <tr>\n",
       "      <th>3</th>\n",
       "      <td>-2.041805</td>\n",
       "      <td>-0.545104</td>\n",
       "      <td>-0.469117</td>\n",
       "      <td>346</td>\n",
       "      <td>0</td>\n",
       "      <td>0</td>\n",
       "      <td>0</td>\n",
       "      <td>0</td>\n",
       "      <td>1</td>\n",
       "      <td>0</td>\n",
       "      <td>...</td>\n",
       "      <td>0</td>\n",
       "      <td>0</td>\n",
       "      <td>0</td>\n",
       "      <td>0</td>\n",
       "      <td>0</td>\n",
       "      <td>0</td>\n",
       "      <td>1</td>\n",
       "      <td>0</td>\n",
       "      <td>0</td>\n",
       "      <td>0</td>\n",
       "    </tr>\n",
       "    <tr>\n",
       "      <th>4</th>\n",
       "      <td>-2.041805</td>\n",
       "      <td>-0.545104</td>\n",
       "      <td>-0.469117</td>\n",
       "      <td>230</td>\n",
       "      <td>0</td>\n",
       "      <td>0</td>\n",
       "      <td>0</td>\n",
       "      <td>0</td>\n",
       "      <td>1</td>\n",
       "      <td>0</td>\n",
       "      <td>...</td>\n",
       "      <td>0</td>\n",
       "      <td>0</td>\n",
       "      <td>0</td>\n",
       "      <td>0</td>\n",
       "      <td>0</td>\n",
       "      <td>0</td>\n",
       "      <td>0</td>\n",
       "      <td>1</td>\n",
       "      <td>0</td>\n",
       "      <td>0</td>\n",
       "    </tr>\n",
       "  </tbody>\n",
       "</table>\n",
       "<p>5 rows × 23 columns</p>\n",
       "</div>"
      ],
      "text/plain": [
       "   mean_age  total_pop  distance_to_nearest_city  packages  month_April  \\\n",
       "0 -2.041805  -0.545104                 -0.469117       403            0   \n",
       "1 -2.041805  -0.545104                 -0.469117       359            0   \n",
       "2 -2.041805  -0.545104                 -0.469117       357            0   \n",
       "3 -2.041805  -0.545104                 -0.469117       346            0   \n",
       "4 -2.041805  -0.545104                 -0.469117       230            0   \n",
       "\n",
       "   month_August  month_December  month_February  month_January  month_July  \\\n",
       "0             0               0               0              1           0   \n",
       "1             0               0               0              1           0   \n",
       "2             0               0               0              1           0   \n",
       "3             0               0               0              1           0   \n",
       "4             0               0               0              1           0   \n",
       "\n",
       "   ...  month_November  month_October  month_September  weekday_DI  \\\n",
       "0  ...               0              0                0           1   \n",
       "1  ...               0              0                0           0   \n",
       "2  ...               0              0                0           0   \n",
       "3  ...               0              0                0           0   \n",
       "4  ...               0              0                0           0   \n",
       "\n",
       "   weekday_DO  weekday_FR  weekday_MI  weekday_MO  weekday_SA  weekday_SO  \n",
       "0           0           0           0           0           0           0  \n",
       "1           1           0           0           0           0           0  \n",
       "2           0           1           0           0           0           0  \n",
       "3           0           0           1           0           0           0  \n",
       "4           0           0           0           1           0           0  \n",
       "\n",
       "[5 rows x 23 columns]"
      ]
     },
     "execution_count": 6,
     "metadata": {},
     "output_type": "execute_result"
    }
   ],
   "source": [
    "# new data set that includes the dummy variables + the target\n",
    "dummy = packages.drop(columns=[\"mean_age\", \"total_pop\", \"distance_to_nearest_city\"])\n",
    "\n",
    "# add the month/weekday/packages columns...\n",
    "packages_st = pd.concat([packages_st, dummy], axis=1)\n",
    "packages_st.head()"
   ]
  },
  {
   "cell_type": "code",
   "execution_count": 7,
   "id": "6dabbe4f-4adc-4413-abda-64826facb949",
   "metadata": {},
   "outputs": [
    {
     "data": {
      "text/plain": [
       "XGBRegressor(base_score=0.5, booster='gbtree', callbacks=None,\n",
       "             colsample_bylevel=1, colsample_bynode=1, colsample_bytree=1,\n",
       "             early_stopping_rounds=None, enable_categorical=False,\n",
       "             eval_metric=None, feature_types=None, gamma=0, gpu_id=-1,\n",
       "             grow_policy='depthwise', importance_type=None,\n",
       "             interaction_constraints='', learning_rate=0.300000012, max_bin=256,\n",
       "             max_cat_threshold=64, max_cat_to_onehot=4, max_delta_step=0,\n",
       "             max_depth=6, max_leaves=0, min_child_weight=1, missing=nan,\n",
       "             monotone_constraints='()', n_estimators=100, n_jobs=0,\n",
       "             num_parallel_tree=1, predictor='auto', random_state=0, ...)"
      ]
     },
     "execution_count": 7,
     "metadata": {},
     "output_type": "execute_result"
    }
   ],
   "source": [
    "# Split X and y: X dependent variables (features), y the traget variable\n",
    "X = packages_st.drop(\"packages\", axis=1)\n",
    "y = packages_st[[\"packages\"]]\n",
    "\n",
    "# fit the data to the modell, we have chosen XGBRegressor as model, as it was the most successfull in previous testing\n",
    "model = XGBRegressor(n_estimators = 134)\n",
    "model.fit(X, y)\n",
    "# no need for train-test-split, as we already now XGBoost works great for our data and we try to max it's predictionrate\n",
    "# so we give him all the data to train"
   ]
  },
  {
   "cell_type": "code",
   "execution_count": 8,
   "id": "07f71969-9522-4e92-b7ac-999d63aff31e",
   "metadata": {},
   "outputs": [
    {
     "name": "stdout",
     "output_type": "stream",
     "text": [
      "R2: 99.73 %\n",
      "MAE: 116.38\n",
      "MSE: 35608.08\n"
     ]
    }
   ],
   "source": [
    "# import libraries\n",
    "from sklearn.metrics import r2_score\n",
    "from sklearn.metrics import mean_absolute_error as mae\n",
    "from sklearn.metrics import mean_squared_error as mse\n",
    "\n",
    "# test how good the pred works\n",
    "ypred = model.predict(X)\n",
    "print(\"R2: {:.2f} %\".format(r2_score(y, ypred)*100))\n",
    "print(\"MAE: {:.2f}\".format(mae(y, ypred)))\n",
    "print(\"MSE: {:.2f}\".format(mse(y, ypred)))"
   ]
  },
  {
   "cell_type": "code",
   "execution_count": 15,
   "id": "c3a0f63a-179a-4d4f-a304-79b9c67bdbef",
   "metadata": {},
   "outputs": [
    {
     "data": {
      "text/plain": [
       "array([738.1235], dtype=float32)"
      ]
     },
     "execution_count": 15,
     "metadata": {},
     "output_type": "execute_result"
    }
   ],
   "source": [
    "# test if predicting a random X works, it does\n",
    "pred = np.array([[-2, -0.40, 0.80, 0, 0, 0, 0, 1, 0, 0, 0, 0, 0, 0, 0, 1, 0, 0, 0, 0, 0, 0]])\n",
    "model.predict(pred)"
   ]
  },
  {
   "cell_type": "code",
   "execution_count": 10,
   "id": "57c85796-e410-4495-9a77-bdb8f8949730",
   "metadata": {},
   "outputs": [
    {
     "data": {
      "text/plain": [
       "array([76.500885], dtype=float32)"
      ]
     },
     "execution_count": 10,
     "metadata": {},
     "output_type": "execute_result"
    }
   ],
   "source": [
    "# second test: giving the same input for X but changing the day from Tuesday to Sunday: \n",
    "# -> expecting a way smaller output (way less packages get delivered on a Sunday than Tuesday)\n",
    "# -> it works\n",
    "pred2 = np.array([[-2, -0.40, 0.80, 0, 0, 0, 0, 1, 0, 0, 0, 0, 0, 0, 0, 0, 0, 0, 0, 0, 0, 1]])\n",
    "model.predict(pred2)"
   ]
  },
  {
   "cell_type": "code",
   "execution_count": 11,
   "id": "21da4021-3e5d-4cdb-929d-5f620ab65ad5",
   "metadata": {},
   "outputs": [],
   "source": [
    "# defining two functionss so we can later use them in the GUI file\n",
    "# function for trasforming the data (standarize, split in X and y, ...)\n",
    "def transform_data(df):\n",
    "    X_data = df.drop(columns=[\"packages\", \"month\", \"weekday\"])\n",
    "    target = df[\"packages\"]\n",
    "    standard = preprocessing.scale(X_data)\n",
    "    str_cols = [col for col in df.columns if df[col].dtype == \"O\"]\n",
    "    df = pd.get_dummies(df, columns=str_cols)\n",
    "    packages_st = pd.DataFrame(standard, columns=X_data.columns)\n",
    "    dummy = df.drop(columns=[\"mean_age\", \"total_pop\", \"distance_to_nearest_city\"])\n",
    "    packages_st = pd.concat([packages_st, dummy], axis=1)\n",
    "    X = packages_st.drop(\"packages\", axis=1)\n",
    "    y = packages_st[[\"packages\"]]\n",
    "    return X, y\n",
    "\n",
    "# function for the ML part    \n",
    "def predict_packages(X, y, pred):\n",
    "    model = XGBRegressor()\n",
    "    model.fit(X, y)\n",
    "    pred2 = model.predict(pred)\n",
    "    # as the Post has aggregated the packages for all identical weekdays in a month we have to divide by 4 \n",
    "    # to get the correct prediction for one day in the month\n",
    "    return pred2[0]/4\n",
    "\n",
    "# activation function\n",
    "# as only predictions >= 0 make sense we need to apply rectified liniar function to the prediction\n",
    "# pred < 0: output 0, pred >= 0: output pred\n",
    "def relu(x):\n",
    "\treturn max(0.0, x)"
   ]
  },
  {
   "cell_type": "code",
   "execution_count": 12,
   "id": "6a18e349-cc29-4b6a-ad4c-1e1498b01b58",
   "metadata": {},
   "outputs": [
    {
     "name": "stdout",
     "output_type": "stream",
     "text": [
      "-32.456085205078125\n"
     ]
    },
    {
     "data": {
      "text/plain": [
       "0.0"
      ]
     },
     "execution_count": 12,
     "metadata": {},
     "output_type": "execute_result"
    }
   ],
   "source": [
    "# testing if our functions work -> they do\n",
    "packages = pd.read_csv(\"../data/packages_final.csv\", usecols=[\"mean_age\", \"total_pop\", \"month\", \"weekday\", \"packages\", \"distance_to_nearest_city\"])\n",
    "\n",
    "pred2 = np.array([[-2, -1.40, 0.80, 0, 0, 0, 0, 1, 0, 0, 0, 0, 0, 0, 0, 0, 0, 0, 0, 0, 0, 1]])\n",
    "\n",
    "X, y = transform_data(packages)\n",
    "a = predict_packages(X, y, pred2)\n",
    "print(a)\n",
    "relu(a)"
   ]
  },
  {
   "cell_type": "code",
   "execution_count": null,
   "id": "d5786f81-3f3e-4921-bb40-ba69ab17d10a",
   "metadata": {},
   "outputs": [],
   "source": []
  }
 ],
 "metadata": {
  "kernelspec": {
   "display_name": "Python 3 (ipykernel)",
   "language": "python",
   "name": "python3"
  },
  "language_info": {
   "codemirror_mode": {
    "name": "ipython",
    "version": 3
   },
   "file_extension": ".py",
   "mimetype": "text/x-python",
   "name": "python",
   "nbconvert_exporter": "python",
   "pygments_lexer": "ipython3",
   "version": "3.8.13"
  }
 },
 "nbformat": 4,
 "nbformat_minor": 5
}
